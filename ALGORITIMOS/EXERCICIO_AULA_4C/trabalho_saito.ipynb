{
 "cells": [
  {
   "cell_type": "code",
   "execution_count": null,
   "metadata": {},
   "outputs": [],
   "source": [
    "#EXERCICIO 1\n"
   ]
  },
  {
   "cell_type": "code",
   "execution_count": null,
   "metadata": {},
   "outputs": [],
   "source": [
    "print(\" BEM VINDO AO NOSSA TABUADA!\\n\")\n",
    "\n",
    "NUM_TABUADA = input(\"Entre com um número inteiro positivo qualquer: \")\n",
    "\n",
    "for i in range(0,11):\n",
    "    print (\"{} X {} = {}\" .format(NUM_TABUADA,i,NUM_TABUADA*i ))\n"
   ]
  },
  {
   "cell_type": "code",
   "execution_count": null,
   "metadata": {},
   "outputs": [],
   "source": [
    "#EXERCICIO 2\n",
    "\n"
   ]
  },
  {
   "cell_type": "code",
   "execution_count": null,
   "metadata": {},
   "outputs": [],
   "source": [
    "print(\"Apresentando a soma dos primeiros 100 numeros!\\n\")\n",
    "SOMA = 0;\n",
    "for I in range(0,101):\n",
    "    \n",
    "    SOMA = SOMA + I;\n",
    "else: print(\"A soma dos primeiros 100 numeros é {}\".format(SOMA))"
   ]
  },
  {
   "cell_type": "code",
   "execution_count": null,
   "metadata": {},
   "outputs": [],
   "source": [
    "#exercico 3\n",
    "\n"
   ]
  },
  {
   "cell_type": "code",
   "execution_count": null,
   "metadata": {},
   "outputs": [],
   "source": [
    "print(\"verificando os numeros pares de 1 a 500... aguarde....\\n\")\n",
    "SOMA = 1;\n",
    "for I in range(1,501):\n",
    "    if((I%2)==0):\n",
    "       #print(\"achei um par :{}\".format(I))#validação apenas\n",
    "        SOMA = SOMA + I;\n",
    "        \n",
    "else: print(\"A soma dos numeros pares e igual a : {}\".format(SOMA));\n"
   ]
  },
  {
   "cell_type": "code",
   "execution_count": null,
   "metadata": {},
   "outputs": [],
   "source": [
    "#exercico 4 versão 1.0\n",
    "\n"
   ]
  },
  {
   "cell_type": "code",
   "execution_count": null,
   "metadata": {},
   "outputs": [],
   "source": [
    "print(\"CALCULANDO 15 FATORIAIS E APRESENTANDO SUA SOMA\\n\")\n",
    "soma_fatorial= 0;\n",
    "for i in range(1,16):\n",
    "    num = int(input(\"\\nQual o {}.o numero que deseja fazer o fatoral? \".format(i+1)));\n",
    "    controle = num \n",
    "   \n",
    "\n",
    "    controle fatoral \n",
    "    fat_control = 1;\n",
    "\n",
    "    while controle > 1:\n",
    "        fat_control *= controle\n",
    "        controle -= 1;\n",
    "\n",
    "    soma_fatorial += fat_control;\n",
    "else: print (\"\\nA SOMA DOS 15 FATORIAIS É: {}\".format(soma_fatorial));"
   ]
  },
  {
   "cell_type": "code",
   "execution_count": null,
   "metadata": {},
   "outputs": [],
   "source": [
    "#exercico 4 versão 2.0\n",
    "\n"
   ]
  },
  {
   "cell_type": "code",
   "execution_count": null,
   "metadata": {},
   "outputs": [],
   "source": [
    "from math import factorial #isso aqui é roubado heheheh\n",
    "\n",
    "\n",
    "print(\"CALCULANDO 15 FATORIAIS E APRESENTANDO SUA SOMA -- v2\\n\")\n",
    "soma_fatorial= 0;\n",
    "for i in range(1,16):\n",
    "    num = int(input(\"Qual o {}.o numero que deseja fazer o fatoral? \".format(i+1)));\n",
    "    fatoral =  factorial(num);\n",
    "    #somando ridiculamente hehehehe\n",
    "    soma_fatorial+= fatoral\n",
    "    \n",
    "else: print (\"A SOMA DOS 15 FATORIAIS É: {}\".format(soma_fatorial));"
   ]
  },
  {
   "cell_type": "code",
   "execution_count": null,
   "metadata": {},
   "outputs": [],
   "source": [
    "#exercicio 5\n",
    "\n"
   ]
  },
  {
   "cell_type": "code",
   "execution_count": null,
   "metadata": {},
   "outputs": [],
   "source": [
    "print(\"Somando 10 numeros e apresentando sua media e soma:\")\n",
    "\n",
    "soma = 0 \n",
    "media = 0\n",
    "\n",
    "for i in range(0,11):\n",
    "    num = input(\"Qual o {}.o numero que deseja somar?\".format(i+1))\n",
    "    soma+= num;\n",
    "else : \n",
    "    media  = soma/10;\n",
    "    print(\"O soma total e: {}\".format(soma));\n",
    "    print(\"A media total e: {}\".format(media));\n"
   ]
  },
  {
   "cell_type": "code",
   "execution_count": null,
   "metadata": {},
   "outputs": [],
   "source": [
    "#exercicio 6\n",
    "\n"
   ]
  },
  {
   "cell_type": "code",
   "execution_count": null,
   "metadata": {},
   "outputs": [],
   "source": [
    "num = 0\n",
    "result = 0\n",
    "cont = 0\n",
    "media = 0\n",
    "\n",
    "while (num >= 0):    \n",
    "        num = int(input (\"Entre com um número qualquer e, desejar parar, digite um numero negativo\"))\n",
    "        if(num > 0):\n",
    "            result = result + num\n",
    "            cont += 1       \n",
    "else:\n",
    "    media = result/cont;\n",
    "    print (\"O final somatorio eh: {}\".format(result)) \n",
    "    print (\"A media dos valores eh: {}\".format(media))\n",
    "    print (\"O total dos valores lidos eh: {}\".format(cont))"
   ]
  },
  {
   "cell_type": "code",
   "execution_count": null,
   "metadata": {},
   "outputs": [],
   "source": [
    "#exercicio 7"
   ]
  },
  {
   "cell_type": "code",
   "execution_count": null,
   "metadata": {},
   "outputs": [],
   "source": [
    "print(\"CALCULANDO 10 FATORIAIS E APRESENTANDO A SOMA DOS VALORES IMPARES\\n\")\n",
    "soma_fatorial= 0;\n",
    "for i in range(1,11):\n",
    "    if((i%2)==1):\n",
    "        num = i\n",
    "        controle = num \n",
    "   \n",
    "        #controle fatoral \n",
    "        fat_control = 1;\n",
    "\n",
    "        while controle > 1:\n",
    "            fat_control *= controle\n",
    "            controle -= 1;\n",
    "\n",
    "        soma_fatorial += fat_control;\n",
    "else: print (\"\\nA SOMA DOS FATORIAIS IMPARES É: {}\".format(soma_fatorial));"
   ]
  },
  {
   "cell_type": "code",
   "execution_count": null,
   "metadata": {},
   "outputs": [],
   "source": [
    "\n",
    "#exercicio 8\n"
   ]
  },
  {
   "cell_type": "code",
   "execution_count": null,
   "metadata": {},
   "outputs": [],
   "source": [
    "num = 0\n",
    "maior = 0\n",
    "menos = 0\n",
    "while (num >= 0):    \n",
    "        num = int(input (\"Entre com um número qualquer e, desejar parar, digite um numero negativo\"))\n",
    "        if (num >= 0):\n",
    "            if (num >= maior):\n",
    "                maior = num                \n",
    "            else:\n",
    "                menor = num        \n",
    "else:    \n",
    "    print (\"O maior numero obtido eh: {}\".format(maior)) \n",
    "    print (\"O menor numero obtido eh: {}\".format(menor))"
   ]
  },
  {
   "cell_type": "code",
   "execution_count": null,
   "metadata": {},
   "outputs": [],
   "source": [
    "#exercicio 9"
   ]
  },
  {
   "cell_type": "code",
   "execution_count": null,
   "metadata": {},
   "outputs": [],
   "source": [
    "for i in range(15,201):\n",
    "    print(\"O quadrado de {} é {}\".format(i,i*i))"
   ]
  },
  {
   "cell_type": "code",
   "execution_count": null,
   "metadata": {},
   "outputs": [],
   "source": [
    "#Exercicio 10"
   ]
  },
  {
   "cell_type": "code",
   "execution_count": null,
   "metadata": {},
   "outputs": [],
   "source": [
    "resultado = 0\n",
    "for i in range(1,101):\n",
    "    resultado += i\n",
    "print(\"A soima dos 100 primeros numeros é {}\".format(resultado))"
   ]
  }
 ],
 "metadata": {
  "kernelspec": {
   "display_name": "Python 2",
   "language": "python",
   "name": "python2"
  },
  "language_info": {
   "codemirror_mode": {
    "name": "ipython",
    "version": 2
   },
   "file_extension": ".py",
   "mimetype": "text/x-python",
   "name": "python",
   "nbconvert_exporter": "python",
   "pygments_lexer": "ipython2",
   "version": "2.7.17-final"
  }
 },
 "nbformat": 4,
 "nbformat_minor": 2
}