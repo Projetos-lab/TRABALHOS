{
 "cells": [
  {
   "cell_type": "code",
   "execution_count": null,
   "metadata": {},
   "outputs": [],
   "source": [
    "#EXERCICIO 1\n"
   ]
  },
  {
   "cell_type": "code",
   "execution_count": 3,
   "metadata": {},
   "outputs": [
    {
     "name": "stdout",
     "output_type": "stream",
     "text": [
      "BEM VINDO AO NOSSA TABUADA!\n",
      "\n",
      "9 X 0 = 0\n",
      "9 X 1 = 9\n",
      "9 X 2 = 18\n",
      "9 X 3 = 27\n",
      "9 X 4 = 36\n",
      "9 X 5 = 45\n",
      "9 X 6 = 54\n",
      "9 X 7 = 63\n",
      "9 X 8 = 72\n",
      "9 X 9 = 81\n",
      "9 X 10 = 90\n"
     ]
    }
   ],
   "source": [
    "print(\" BEM VINDO AO NOSSA TABUADA!\\n\")\n",
    "\n",
    "NUM_TABUADA = input(\"Entre com um número inteiro positivo qualquer: \")\n",
    "\n",
    "for i in range(0,11):\n",
    "    print (\"{} X {} = {}\" .format(NUM_TABUADA,i,NUM_TABUADA*i ))\n"
   ]
  },
  {
   "cell_type": "code",
   "execution_count": null,
   "metadata": {},
   "outputs": [],
   "source": [
    "#EXERCICIO 2"
   ]
  },
  {
   "cell_type": "code",
   "execution_count": 4,
   "metadata": {},
   "outputs": [
    {
     "name": "stdout",
     "output_type": "stream",
     "text": [
      "Apresentando a soma dos primeiros 100 numeros!\n",
      "\n",
      "A soma dos primeiros 100 numeros é 5050\n"
     ]
    }
   ],
   "source": [
    "print(\"Apresentando a soma dos primeiros 100 numeros!\\n\")\n",
    "SOMA = 0;\n",
    "for I in range(0,101):\n",
    "    \n",
    "    SOMA = SOMA + I;\n",
    "else: print(\"A soma dos primeiros 100 numeros é {}\".format(SOMA))\n",
    "\n"
   ]
  },
  {
   "cell_type": "code",
   "execution_count": null,
   "metadata": {},
   "outputs": [],
   "source": [
    "#exercico 3"
   ]
  },
  {
   "cell_type": "code",
   "execution_count": 7,
   "metadata": {},
   "outputs": [
    {
     "name": "stdout",
     "output_type": "stream",
     "text": [
      "verificando os numeros pares de 1 a 500... aguarde....\n",
      "\n",
      "A soma dos numeros pares e igual a : 62751\n"
     ]
    }
   ],
   "source": [
    "print(\"verificando os numeros pares de 1 a 500... aguarde....\\n\")\n",
    "SOMA = 1;\n",
    "for I in range(0,501):\n",
    "    if((I%2)==0):\n",
    "       #print(\"achei um par :{}\".format(I))#validação apenas\n",
    "        SOMA = SOMA + I;\n",
    "        \n",
    "else: print(\"A soma dos numeros pares e igual a : {}\".format(SOMA));\n"
   ]
  },
  {
   "cell_type": "code",
   "execution_count": null,
   "metadata": {},
   "outputs": [],
   "source": [
    "#exercico 4 versão 1.0"
   ]
  },
  {
   "cell_type": "code",
   "execution_count": 9,
   "metadata": {},
   "outputs": [
    {
     "name": "stdout",
     "output_type": "stream",
     "text": [
      "CALCULANDO 15 FATORIAIS E APRESENTANDO SUA SOMA\n",
      "\n",
      "0\n",
      "1\n",
      "2\n",
      "3\n",
      "4\n",
      "5\n",
      "6\n",
      "7\n",
      "8\n",
      "9\n",
      "10\n",
      "11\n",
      "12\n",
      "13\n",
      "14\n",
      "\n",
      "A SOMA DOS 15 FATORIAIS É: 1322817121855589341819666334248553980424706389122157933261220183016133036796925877417140331862907637548693613355874975245882593432819802244361582366763230398360267298646271137168984971072666517539168939572767183323844208533133727827228141396277763091061617044692312110106231524525225358952512962645376407134342222076509832571537897736781366774855123588124693708983379266146430697547420726436032315022363726115852269154141462443402602305185643521736909850399807010772035574399108009390601473429096325973295772039542758288151284345238898711771812622981863124037199664346012301397820162715422354739372620725878648850049169998623079809287461600378294545837831823540502552750304918052054924928004127627804791369075310749582000541399646382741215263310515739269031013180178027948628538763356639777427784814611812107387730158308570203495446598764052365024731829054877695566313663349259739466438950091895456713217208141450343454231199728939444602697400113776185574685649378226472029359541859401669826951419453615023452221215317749571423647105793540177675906926752097005630559911915845849378605076830674324411274942197530563524463235143735289423873956852531200000000000000000000000000000000000000000000000000000000000000050785613414633103703860403390266068133554083245417399106765301937178368720\n"
     ]
    }
   ],
   "source": [
    "print(\"CALCULANDO 15 FATORIAIS E APRESENTANDO SUA SOMA\\n\")\n",
    "soma_fatorial= 0;\n",
    "for i in range(0,15):\n",
    "    \n",
    "    num = int(input(\"\\nQual o {}.o numero que deseja fazer o fatoral? \".format(i+1)));\n",
    "    controle = num \n",
    "   \n",
    "\n",
    "    #controle fatoral \n",
    "    fat_control = 1;\n",
    "\n",
    "    while controle > 1:\n",
    "        fat_control *= controle\n",
    "        controle -= 1;\n",
    "\n",
    "    soma_fatorial += fat_control;\n",
    "else: print (\"\\nA SOMA DOS 15 FATORIAIS É: {}\".format(soma_fatorial));"
   ]
  },
  {
   "cell_type": "code",
   "execution_count": null,
   "metadata": {},
   "outputs": [],
   "source": [
    "#exercico 4 versão 2.0"
   ]
  },
  {
   "cell_type": "code",
   "execution_count": null,
   "metadata": {},
   "outputs": [],
   "source": [
    "from math import factorial #isso aqui é roubado heheheh\n",
    "\n",
    "\n",
    "print(\"CALCULANDO 15 FATORIAIS E APRESENTANDO SUA SOMA -- v2\\n\")\n",
    "soma_fatorial= 0;\n",
    "for i in range(0,15):\n",
    "    num = int(input(\"Qual o {}.o numero que deseja fazer o fatoral? \".format(i+1)));\n",
    "    fatoral =  factorial(num);\n",
    "    #somando ridiculamente hehehehe\n",
    "    soma_fatorial+= fatoral\n",
    "    \n",
    "else: print (\"A SOMA DOS 15 FATORIAIS É: {}\".format(soma_fatorial));"
   ]
  },
  {
   "cell_type": "code",
   "execution_count": null,
   "metadata": {},
   "outputs": [],
   "source": [
    "#exercicio 55"
   ]
  },
  {
   "cell_type": "code",
   "execution_count": null,
   "metadata": {},
   "outputs": [],
   "source": [
    "print(\"Somando 10 numeros e apresentando sua media e soma:\")\n",
    "\n",
    "soma = 0 \n",
    "media = 0\n",
    "\n",
    "for i in range(0,10):\n",
    "    num = input(\"Qual o {}.o numero que deseja somar?\".format(i+1))\n",
    "    soma+= num;\n",
    "else : \n",
    "    media  = soma/10;\n",
    "    print(\"O soma total e: {}\".format(soma));\n",
    "    print(\"A media total e: {}\".format(media));\n"
   ]
  },
  {
   "cell_type": "code",
   "execution_count": null,
   "metadata": {},
   "outputs": [],
   "source": []
  }
 ],
 "metadata": {
  "kernelspec": {
   "display_name": "Python 2",
   "language": "python",
   "name": "python2"
  },
  "language_info": {
   "codemirror_mode": {
    "name": "ipython",
    "version": 2
   },
   "file_extension": ".py",
   "mimetype": "text/x-python",
   "name": "python",
   "nbconvert_exporter": "python",
   "pygments_lexer": "ipython2",
   "version": "2.7.17"
  }
 },
 "nbformat": 4,
 "nbformat_minor": 2
}
