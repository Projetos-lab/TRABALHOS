{
 "nbformat": 4,
 "nbformat_minor": 2,
 "metadata": {
  "language_info": {
   "name": "python",
   "codemirror_mode": {
    "name": "ipython",
    "version": 2
   }
  },
  "orig_nbformat": 2,
  "file_extension": ".py",
  "mimetype": "text/x-python",
  "name": "python",
  "npconvert_exporter": "python",
  "pygments_lexer": "ipython2",
  "version": 2
 },
 "cells": [
  {
   "cell_type": "code",
   "execution_count": null,
   "metadata": {},
   "outputs": [],
   "source": [
    "num = 0\n",
    "maior = 0\n",
    "menos = 0\n",
    "while (num >= 0):    \n",
    "        num = int(input (\"Entre com um número qualquer e, desejar parar, digite um numero negativo\"))\n",
    "        if (num >= 0):\n",
    "            if (num >= maior):\n",
    "                maior = num                \n",
    "            else:\n",
    "                menor = num        \n",
    "else:    \n",
    "    print (\"O maior numero obtido eh: {}\".format(maior)) \n",
    "    print (\"O menor numero obtido eh: {}\".format(menor))"
   ]
  }
 ]
}