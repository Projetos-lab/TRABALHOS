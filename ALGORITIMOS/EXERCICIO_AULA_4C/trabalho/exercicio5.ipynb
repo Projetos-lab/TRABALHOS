{
 "nbformat": 4,
 "nbformat_minor": 2,
 "metadata": {
  "language_info": {
   "name": "python",
   "codemirror_mode": {
    "name": "ipython",
    "version": 2
   }
  },
  "orig_nbformat": 2,
  "file_extension": ".py",
  "mimetype": "text/x-python",
  "name": "python",
  "npconvert_exporter": "python",
  "pygments_lexer": "ipython2",
  "version": 2
 },
 "cells": [
  {
   "cell_type": "code",
   "execution_count": null,
   "metadata": {},
   "outputs": [],
   "source": [
    "print(\"Somando 10 numeros e apresentando sua media e soma:\")\n",
    "\n",
    "soma = 0 \n",
    "media = 0\n",
    "\n",
    "for i in range(0,11):\n",
    "    num = input(\"Qual o {}.o numero que deseja somar?\".format(i+1))\n",
    "    soma+= num;\n",
    "else : \n",
    "    media  = soma/10;\n",
    "    print(\"O soma total e: {}\".format(soma));\n",
    "    print(\"A media total e: {}\".format(media));"
   ]
  }
 ]
}