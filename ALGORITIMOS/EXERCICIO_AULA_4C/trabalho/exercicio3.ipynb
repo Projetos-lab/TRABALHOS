{
 "nbformat": 4,
 "nbformat_minor": 2,
 "metadata": {
  "language_info": {
   "name": "python",
   "codemirror_mode": {
    "name": "ipython",
    "version": 2
   }
  },
  "orig_nbformat": 2,
  "file_extension": ".py",
  "mimetype": "text/x-python",
  "name": "python",
  "npconvert_exporter": "python",
  "pygments_lexer": "ipython2",
  "version": 2
 },
 "cells": [
  {
   "cell_type": "code",
   "execution_count": null,
   "metadata": {},
   "outputs": [],
   "source": [
    "print(\"verificando os numeros pares de 1 a 500... aguarde....\\n\")\n",
    "SOMA = 1;\n",
    "for I in range(1,501):\n",
    "    if((I%2)==0):\n",
    "       #print(\"achei um par :{}\".format(I))#validação apenas\n",
    "        SOMA = SOMA + I;\n",
    "        \n",
    "else: print(\"A soma dos numeros pares e igual a : {}\".format(SOMA));"
   ]
  }
 ]
}