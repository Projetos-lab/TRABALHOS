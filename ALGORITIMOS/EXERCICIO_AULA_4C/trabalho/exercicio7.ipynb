{
 "nbformat": 4,
 "nbformat_minor": 2,
 "metadata": {
  "language_info": {
   "name": "python",
   "codemirror_mode": {
    "name": "ipython",
    "version": 2
   }
  },
  "orig_nbformat": 2,
  "file_extension": ".py",
  "mimetype": "text/x-python",
  "name": "python",
  "npconvert_exporter": "python",
  "pygments_lexer": "ipython2",
  "version": 2
 },
 "cells": [
  {
   "cell_type": "code",
   "execution_count": null,
   "metadata": {},
   "outputs": [],
   "source": [
    "print(\"CALCULANDO 10 FATORIAIS E APRESENTANDO A SOMA DOS VALORES IMPARES\\n\")\n",
    "soma_fatorial= 0;\n",
    "for i in range(1,11):\n",
    "    if((i%2)==1):\n",
    "        num = i\n",
    "        controle = num \n",
    "   \n",
    "        #controle fatoral \n",
    "        fat_control = 1;\n",
    "\n",
    "        while controle > 1:\n",
    "            fat_control *= controle\n",
    "            controle -= 1;\n",
    "\n",
    "        soma_fatorial += fat_control;\n",
    "else: print (\"\\nA SOMA DOS FATORIAIS IMPARES É: {}\".format(soma_fatorial));"
   ]
  }
 ]
}