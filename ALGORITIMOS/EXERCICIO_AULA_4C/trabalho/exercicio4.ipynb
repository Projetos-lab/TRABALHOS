{
 "nbformat": 4,
 "nbformat_minor": 2,
 "metadata": {
  "language_info": {
   "name": "python",
   "codemirror_mode": {
    "name": "ipython",
    "version": 2
   }
  },
  "orig_nbformat": 2,
  "file_extension": ".py",
  "mimetype": "text/x-python",
  "name": "python",
  "npconvert_exporter": "python",
  "pygments_lexer": "ipython2",
  "version": 2
 },
 "cells": [
  {
   "cell_type": "code",
   "execution_count": null,
   "metadata": {},
   "outputs": [],
   "source": [
    "print(\"CALCULANDO 15 FATORIAIS E APRESENTANDO SUA SOMA\\n\")\n",
    "soma_fatorial= 0;\n",
    "for i in range(1,16):\n",
    "    num = int(input(\"\\nQual o {}.o numero que deseja fazer o fatoral? \".format(i+1)));\n",
    "    controle = num \n",
    "   \n",
    "\n",
    "    controle fatoral \n",
    "    fat_control = 1;\n",
    "\n",
    "    while controle > 1:\n",
    "        fat_control *= controle\n",
    "        controle -= 1;\n",
    "\n",
    "    soma_fatorial += fat_control;\n",
    "else: print (\"\\nA SOMA DOS 15 FATORIAIS É: {}\".format(soma_fatorial));"
   ]
  }
 ]
}