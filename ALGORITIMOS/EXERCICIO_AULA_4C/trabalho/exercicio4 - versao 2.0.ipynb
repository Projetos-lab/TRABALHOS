{
 "nbformat": 4,
 "nbformat_minor": 2,
 "metadata": {
  "language_info": {
   "name": "python",
   "codemirror_mode": {
    "name": "ipython",
    "version": 2
   }
  },
  "orig_nbformat": 2,
  "file_extension": ".py",
  "mimetype": "text/x-python",
  "name": "python",
  "npconvert_exporter": "python",
  "pygments_lexer": "ipython2",
  "version": 2
 },
 "cells": [
  {
   "cell_type": "code",
   "execution_count": null,
   "metadata": {},
   "outputs": [],
   "source": [
    "from math import factorial #isso aqui é roubado heheheh\n",
    "\n",
    "\n",
    "print(\"CALCULANDO 15 FATORIAIS E APRESENTANDO SUA SOMA -- v2\\n\")\n",
    "soma_fatorial= 0;\n",
    "for i in range(1,16):\n",
    "    num = int(input(\"Qual o {}.o numero que deseja fazer o fatoral? \".format(i+1)));\n",
    "    fatoral =  factorial(num);\n",
    "    #somando ridiculamente hehehehe\n",
    "    soma_fatorial+= fatoral\n",
    "    \n",
    "else: print (\"A SOMA DOS 15 FATORIAIS É: {}\".format(soma_fatorial));"
   ]
  }
 ]
}