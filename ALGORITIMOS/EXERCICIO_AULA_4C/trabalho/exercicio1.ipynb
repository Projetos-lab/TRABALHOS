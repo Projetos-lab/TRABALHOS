{
 "nbformat": 4,
 "nbformat_minor": 2,
 "metadata": {
  "language_info": {
   "name": "python",
   "codemirror_mode": {
    "name": "ipython",
    "version": 2
   }
  },
  "orig_nbformat": 2,
  "file_extension": ".py",
  "mimetype": "text/x-python",
  "name": "python",
  "npconvert_exporter": "python",
  "pygments_lexer": "ipython2",
  "version": 2
 },
 "cells": [
  {
   "cell_type": "code",
   "execution_count": null,
   "metadata": {},
   "outputs": [],
   "source": [
    "print(\" BEM VINDO AO NOSSA TABUADA!\\n\")\n",
    "\n",
    "NUM_TABUADA = input(\"Entre com um número inteiro positivo qualquer: \")\n",
    "\n",
    "for i in range(0,11):\n",
    "    print (\"{} X {} = {}\" .format(NUM_TABUADA,i,NUM_TABUADA*i ))"
   ]
  }
 ]
}