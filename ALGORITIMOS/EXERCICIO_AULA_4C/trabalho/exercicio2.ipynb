{
 "nbformat": 4,
 "nbformat_minor": 2,
 "metadata": {
  "language_info": {
   "name": "python",
   "codemirror_mode": {
    "name": "ipython",
    "version": 2
   }
  },
  "orig_nbformat": 2,
  "file_extension": ".py",
  "mimetype": "text/x-python",
  "name": "python",
  "npconvert_exporter": "python",
  "pygments_lexer": "ipython2",
  "version": 2
 },
 "cells": [
  {
   "cell_type": "code",
   "execution_count": null,
   "metadata": {},
   "outputs": [],
   "source": [
    "print(\"Apresentando a soma dos primeiros 100 numeros!\\n\")\n",
    "SOMA = 0;\n",
    "for I in range(0,101):\n",
    "    \n",
    "    SOMA = SOMA + I;\n",
    "else: print(\"A soma dos primeiros 100 numeros é {}\".format(SOMA))"
   ]
  }
 ]
}