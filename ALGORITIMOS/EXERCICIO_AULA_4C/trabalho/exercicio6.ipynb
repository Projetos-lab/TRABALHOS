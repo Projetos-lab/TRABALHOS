{
 "nbformat": 4,
 "nbformat_minor": 2,
 "metadata": {
  "language_info": {
   "name": "python",
   "codemirror_mode": {
    "name": "ipython",
    "version": 2
   }
  },
  "orig_nbformat": 2,
  "file_extension": ".py",
  "mimetype": "text/x-python",
  "name": "python",
  "npconvert_exporter": "python",
  "pygments_lexer": "ipython2",
  "version": 2
 },
 "cells": [
  {
   "cell_type": "code",
   "execution_count": null,
   "metadata": {},
   "outputs": [],
   "source": [
    "num = 0\n",
    "result = 0\n",
    "cont = 0\n",
    "media = 0\n",
    "\n",
    "while (num >= 0):    \n",
    "        num = int(input (\"Entre com um número qualquer e, desejar parar, digite um numero negativo\"))\n",
    "        if(num > 0):\n",
    "            result = result + num\n",
    "            cont += 1       \n",
    "else:\n",
    "    media = result/cont;\n",
    "    print (\"O final somatorio eh: {}\".format(result)) \n",
    "    print (\"A media dos valores eh: {}\".format(media))\n",
    "    print (\"O total dos valores lidos eh: {}\".format(cont))"
   ]
  }
 ]
}