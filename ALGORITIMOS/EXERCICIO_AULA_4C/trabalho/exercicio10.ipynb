{
 "nbformat": 4,
 "nbformat_minor": 2,
 "metadata": {
  "language_info": {
   "name": "python",
   "codemirror_mode": {
    "name": "ipython",
    "version": 2
   }
  },
  "orig_nbformat": 2,
  "file_extension": ".py",
  "mimetype": "text/x-python",
  "name": "python",
  "npconvert_exporter": "python",
  "pygments_lexer": "ipython2",
  "version": 2
 },
 "cells": [
  {
   "cell_type": "code",
   "execution_count": null,
   "metadata": {},
   "outputs": [],
   "source": [
    "resultado = 0\n",
    "for i in range(1,101):\n",
    "    resultado += i\n",
    "print(\"A soima dos 100 primeros numeros é {}\".format(resultado))"
   ]
  }
 ]
}